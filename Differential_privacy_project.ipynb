{
  "cells": [
    {
      "cell_type": "code",
      "execution_count": 66,
      "metadata": {
        "colab": {
          "base_uri": "https://localhost:8080/",
          "height": 105
        },
        "colab_type": "code",
        "id": "4l0ome4u0FDM",
        "outputId": "2259b1d8-3f69-4fd6-9d15-37cb54b19d07"
      },
      "outputs": [],
      "source": [
        "import torch\n",
        "import numpy as np\n",
        "import torchvision\n",
        "from torch.utils.data import Subset\n",
        "from torch import nn\n",
        "import torch.nn.functional as F\n",
        "from torch import optim\n",
        "\n",
        "# Switch between cpu and gpu depending on which is available for training\n",
        "device = torch.device(\"cuda\" if torch.cuda.is_available() else \"cpu\")"
      ]
    },
    {
      "cell_type": "code",
      "execution_count": 67,
      "metadata": {},
      "outputs": [
        {
          "data": {
            "text/plain": [
              "device(type='cuda')"
            ]
          },
          "execution_count": 67,
          "metadata": {},
          "output_type": "execute_result"
        }
      ],
      "source": [
        "device"
      ]
    },
    {
      "cell_type": "code",
      "execution_count": 69,
      "metadata": {
        "colab": {
          "base_uri": "https://localhost:8080/",
          "height": 255
        },
        "colab_type": "code",
        "id": "CBHHNURs0n02",
        "outputId": "58c2f8aa-096c-4ee3-852e-dda837c04f1f"
      },
      "outputs": [],
      "source": [
        "# Application of transforms to normalize the mnist data\n",
        "transform = torchvision.transforms.Compose([torchvision.transforms.ToTensor(),\n",
        "                                torchvision.transforms.Normalize((0.5,), (0.5,))])\n",
        "mnist_trainset = torchvision.datasets.MNIST(root='./data', train=True, download=True, transform=transform)\n",
        "mnist_testset = torchvision.datasets.MNIST(root='./data', train=False, download=True, transform=transform)\n",
        "\n",
        "cifar10_trainset = torchvision.datasets.CIFAR10(root='./cifar10', train=True, download=True, transform=transform)\n",
        "cifar10_testset = torchvision.datasets.CIFAR10(root='./cifar10', train=False, download=True, transform=transform)\n"
      ]
    },
    {
      "cell_type": "code",
      "execution_count": 70,
      "metadata": {
        "colab": {},
        "colab_type": "code",
        "id": "7wzDg4VI2Q3f"
      },
      "outputs": [],
      "source": [
        "# Method to divide the mnist trainingset among the number of teachers to simulate unique datasets \n",
        "def private_data_loaders(trainset, teachers):\n",
        "  num_part = len(trainset) // teachers\n",
        "  \n",
        "  priv_loaders = []\n",
        "  for i in range(teachers):\n",
        "    indices = list(range(i * num_part, (i + 1)*num_part)) \n",
        "    sub_pd = Subset(trainset, indices)\n",
        "    temp_loader = torch.utils.data.DataLoader(sub_pd, batch_size=64, shuffle=True)\n",
        "    priv_loaders.append(temp_loader)\n",
        "  return priv_loaders"
      ]
    },
    {
      "cell_type": "code",
      "execution_count": 71,
      "metadata": {
        "colab": {},
        "colab_type": "code",
        "id": "3XCLCVwP63ue"
      },
      "outputs": [],
      "source": [
        "# Method for seperating the mnist test dataset into 2. The first one being the public database and the other one the private database\n",
        "def test_database_seperator(testset):\n",
        "  i1 = int(len(testset) * 0.9)\n",
        "  ind1 = list(range(0, i1))\n",
        "  ind2 = list(range(i1, len(testset)))\n",
        "  \n",
        "  pdb = Subset(testset, ind1)\n",
        "  \n",
        "  db = Subset(testset, ind2)\n",
        "  \n",
        "  pdb_loader = torch.utils.data.DataLoader(pdb, batch_size=64, shuffle=False)\n",
        "  \n",
        "  db_loader = torch.utils.data.DataLoader(db, batch_size=64, shuffle=True)\n",
        "  return pdb_loader, db_loader"
      ]
    },
    {
      "cell_type": "code",
      "execution_count": 72,
      "metadata": {
        "colab": {},
        "colab_type": "code",
        "id": "HR3qEOIfXDVJ"
      },
      "outputs": [],
      "source": [
        "# Method for creating and training a model\n",
        "def create_train_model(classifier, loader, lr = 0.12, epoch = 100):\n",
        "  print(\"Running on \", device)\n",
        "  model = classifier()\n",
        "  optimizer = optim.SGD(model.parameters(), lr)\n",
        "  \n",
        "  criterion = nn.NLLLoss()\n",
        "  \n",
        "  history = {\"loss\": list(), \"accuracy\": list()}\n",
        "\n",
        "  model.to(device)\n",
        "  for i in range(epoch):\n",
        "    cum_loss  = 0\n",
        "    cum_perc = 0\n",
        "    for imgs, labels in loader:\n",
        "      imgs, labels = imgs.to(device), labels.to(device)\n",
        "      optimizer.zero_grad()\n",
        "      output = model.forward(imgs)\n",
        "      loss = criterion(output, labels)\n",
        "      loss.backward()\n",
        "      cum_loss +=  loss.item()\n",
        "      optimizer.step()\n",
        "    for imgs, labels in loader:\n",
        "      imgs, labels = imgs.to(device), labels.to(device)\n",
        "      with torch.no_grad():\n",
        "        ps =  torch.exp(model.forward(imgs))\n",
        "      _, top_class = ps.topk(1, dim = 1)\n",
        "      prob = top_class == labels.view(*top_class.shape)\n",
        "      prob = prob.float()\n",
        "      cum_perc += prob.mean().float()\n",
        "    \n",
        "    history[\"loss\"].append(cum_loss/len(loader))\n",
        "    history[\"accuracy\"].append(cum_perc/len(loader))\n",
        "\n",
        "\n",
        "    if (i == epoch -1):\n",
        "      print(\"The loss for {0} epoch is {1}\".format(i, cum_loss / len(loader)))\n",
        "      print(\"The percentage for {0} epoch is {1}\".format(i, cum_perc / len(loader)))  \n",
        "  return model, history"
      ]
    },
    {
      "cell_type": "code",
      "execution_count": 73,
      "metadata": {
        "colab": {},
        "colab_type": "code",
        "id": "FqtJGOmXgKzv"
      },
      "outputs": [],
      "source": [
        "# Method for running the unlabelled database through the teacher models in order to get their respective predictions for each items.\n",
        "\n",
        "def evaluate(models, loader):\n",
        "  m_labels = []\n",
        "  for model in models:\n",
        "    model_class = []\n",
        "    for imgs, labels in loader:\n",
        "      imgs = imgs.to(device)\n",
        "      with torch.no_grad():\n",
        "        ps =  torch.exp(model.forward(imgs))\n",
        "      top_p, top_class = ps.topk(1, dim = 1)\n",
        "      \n",
        "      model_class.append(np.array(top_class.cpu()).T)\n",
        "    m_label = np.hstack(model_class)\n",
        "    m_labels.append(m_label)\n",
        "  return m_labels"
      ]
    },
    {
      "cell_type": "code",
      "execution_count": 74,
      "metadata": {
        "colab": {},
        "colab_type": "code",
        "id": "Kl69hfZp_PCO"
      },
      "outputs": [],
      "source": [
        "# Method for creating and training the teacher models\n",
        "def train_teacher_models(loaders, lr = 0.12, epoch = 10):\n",
        "  teacher_models = []\n",
        "  for loader in loaders:\n",
        "    model, _ = create_train_model(classifier, loader, lr, epoch)\n",
        "    teacher_models.append(model)\n",
        "  return teacher_models\n"
      ]
    },
    {
      "cell_type": "code",
      "execution_count": 75,
      "metadata": {
        "colab": {},
        "colab_type": "code",
        "id": "n6PrCoNTacpG"
      },
      "outputs": [],
      "source": [
        "#Method for applying Global differential privacy to the labels predicted by the teacher models and to perform PATE analysis.\n",
        "def return_new_indices(preds, epsilon):\n",
        "  preds = preds.T\n",
        "  ind = []\n",
        "  beta = 1 / epsilon\n",
        "  for pred in preds:\n",
        "    label_count = np.bincount(pred, minlength = 10)\n",
        "    for i in range(len(label_count)):\n",
        "      label_count[i] += np.random.laplace(0, beta, 1)\n",
        "    new_labels = np.argmax(label_count)\n",
        "    ind.append(new_labels)\n",
        "\n",
        "  ind = np.array(ind)\n",
        "  return ind\n",
        "\n",
        "def pate_analysis(pred, ind, epsilon):\n",
        "  dde, die = pate.perform_analysis(teacher_preds = pred, indices = ind, noise_eps = epsilon, delta = 1e-5 )\n",
        "  print(\"Data dependent epsilon \", dde)\n",
        "  print(\"Data Independent epsilon \", die)"
      ]
    },
    {
      "cell_type": "code",
      "execution_count": 76,
      "metadata": {
        "colab": {},
        "colab_type": "code",
        "id": "pC7NAXyzhnPj"
      },
      "outputs": [],
      "source": [
        "#Method to create a new dataloader with the new target labels and the public database\n",
        "def join_label_image(dataloader, ind):\n",
        "  img_list = []\n",
        "  for img, _ in dataloader:\n",
        "    img_list.append(img)\n",
        "\n",
        "  images = np.vstack(img_list)\n",
        "\n",
        "  model_zip = list(zip(images, ind))\n",
        "  modelloader = torch.utils.data.DataLoader(model_zip, shuffle=True, batch_size=64)\n",
        "  return modelloader"
      ]
    },
    {
      "cell_type": "code",
      "execution_count": 77,
      "metadata": {
        "colab": {},
        "colab_type": "code",
        "id": "teFfYd71qMxJ"
      },
      "outputs": [],
      "source": [
        "#Method o analyze the private database with the trained model\n",
        "def analyze_privatedata(model, loader):\n",
        "  print(\"Running on \", device)\n",
        "  model.to(device)\n",
        "  cum_perc = 0\n",
        "  for imgs, labels in loader:\n",
        "    imgs, labels = imgs.to(device), labels.to(device)\n",
        "    with torch.no_grad():\n",
        "      ps =  torch.exp(model.forward(imgs))\n",
        "    _, top_class = ps.topk(1, dim = 1)\n",
        "    prob = top_class == labels.view(*top_class.shape)\n",
        "    prob = prob.float()\n",
        "    cum_perc += prob.mean().float()\n",
        "  print(\"The accuracy of the differentially private model on the private dataset is {0}%\".format((cum_perc / len(loader)) * 100))  \n"
      ]
    },
    {
      "cell_type": "code",
      "execution_count": 78,
      "metadata": {
        "colab": {},
        "colab_type": "code",
        "id": "zHac_w6n-Czo"
      },
      "outputs": [],
      "source": [
        "#Classifier for creating the models\n",
        "class classifier(nn.Module):\n",
        "  def __init__(self):\n",
        "    super().__init__() \n",
        "    self.fc1 = nn.Linear(784, 256)\n",
        "    self.fc2 = nn.Linear(256, 128)\n",
        "    self.fc3 = nn.Linear(128, 64)\n",
        "    self.fc4 = nn.Linear(64, 32)\n",
        "    self.fc5 = nn.Linear(32, 10)\n",
        "    \n",
        "    self.dropout = nn.Dropout(p = 0.2)\n",
        "    \n",
        "  def forward(self, x):\n",
        "    x = x.view(x.shape[0], -1)\n",
        "    x = self.dropout(F.relu(self.fc1(x)))\n",
        "    x = self.dropout(F.relu(self.fc2(x)))\n",
        "    x = self.dropout(F.relu(self.fc3(x)))\n",
        "    x = self.dropout(F.relu(self.fc4(x)))\n",
        "    x = F.log_softmax(self.fc5(x), dim = 1)   \n",
        "    return x"
      ]
    },
    {
      "cell_type": "code",
      "execution_count": 43,
      "metadata": {
        "colab": {},
        "colab_type": "code",
        "id": "zHac_w6n-Czo"
      },
      "outputs": [],
      "source": [
        "#Classifier for creating the models\n",
        "class classifier(nn.Module):\n",
        "  def __init__(self):\n",
        "    super().__init__() \n",
        "    self.fc1 = nn.Linear(3072, 256)\n",
        "    self.fc2 = nn.Linear(256, 128)\n",
        "    self.fc3 = nn.Linear(128, 64)\n",
        "    self.fc4 = nn.Linear(64, 32)\n",
        "    self.fc5 = nn.Linear(32, 10)\n",
        "    \n",
        "    self.dropout = nn.Dropout(p = 0.2)\n",
        "    \n",
        "  def forward(self, x):\n",
        "    x = torch.flatten(x, start_dim=1)\n",
        "    x = self.dropout(F.relu(self.fc1(x)))\n",
        "    x = self.dropout(F.relu(self.fc2(x)))\n",
        "    x = self.dropout(F.relu(self.fc3(x)))\n",
        "    x = self.dropout(F.relu(self.fc4(x)))\n",
        "    x = F.log_softmax(self.fc5(x), dim = 1)   \n",
        "    return x"
      ]
    },
    {
      "cell_type": "code",
      "execution_count": 102,
      "metadata": {
        "colab": {},
        "colab_type": "code",
        "id": "3huTVjK4D80y"
      },
      "outputs": [],
      "source": [
        "teachers = 100\n",
        "epsilon = 0.7"
      ]
    },
    {
      "cell_type": "code",
      "execution_count": 103,
      "metadata": {
        "colab": {},
        "colab_type": "code",
        "id": "hnk-_AypskaE"
      },
      "outputs": [],
      "source": [
        "pdb, db = test_database_seperator(mnist_testset)\n",
        "teachers_loaders = private_data_loaders(mnist_trainset, teachers)"
      ]
    },
    {
      "cell_type": "code",
      "execution_count": 104,
      "metadata": {
        "colab": {},
        "colab_type": "code",
        "id": "2Wbjyyq-vLas"
      },
      "outputs": [
        {
          "name": "stdout",
          "output_type": "stream",
          "text": [
            "Running on  cuda\n",
            "The loss for 39 epoch is 0.9288483113050461\n",
            "The percentage for 39 epoch is 0.8114582896232605\n",
            "Running on  cuda\n",
            "The loss for 39 epoch is 0.45420289039611816\n",
            "The percentage for 39 epoch is 0.878125011920929\n",
            "Running on  cuda\n",
            "The loss for 39 epoch is 0.4472201958298683\n",
            "The percentage for 39 epoch is 0.8135417103767395\n",
            "Running on  cuda\n",
            "The loss for 39 epoch is 0.3118019670248032\n",
            "The percentage for 39 epoch is 0.8635417222976685\n",
            "Running on  cuda\n",
            "The loss for 39 epoch is 0.7474961340427398\n",
            "The percentage for 39 epoch is 0.784375011920929\n",
            "Running on  cuda\n",
            "The loss for 39 epoch is 0.5188454151153564\n",
            "The percentage for 39 epoch is 0.7041666507720947\n",
            "Running on  cuda\n",
            "The loss for 39 epoch is 0.6413392782211303\n",
            "The percentage for 39 epoch is 0.7020833492279053\n",
            "Running on  cuda\n",
            "The loss for 39 epoch is 0.5313070029020309\n",
            "The percentage for 39 epoch is 0.8348957896232605\n",
            "Running on  cuda\n",
            "The loss for 39 epoch is 1.0728334486484528\n",
            "The percentage for 39 epoch is 0.6963541507720947\n",
            "Running on  cuda\n",
            "The loss for 39 epoch is 0.4732606843113899\n",
            "The percentage for 39 epoch is 0.8802083134651184\n",
            "Running on  cuda\n",
            "The loss for 39 epoch is 0.3961046516895294\n",
            "The percentage for 39 epoch is 0.9463542103767395\n",
            "Running on  cuda\n",
            "The loss for 39 epoch is 0.6541779726743698\n",
            "The percentage for 39 epoch is 0.7593750357627869\n",
            "Running on  cuda\n",
            "The loss for 39 epoch is 0.6117042124271392\n",
            "The percentage for 39 epoch is 0.785937488079071\n",
            "Running on  cuda\n",
            "The loss for 39 epoch is 0.4834315240383148\n",
            "The percentage for 39 epoch is 0.5453125238418579\n",
            "Running on  cuda\n",
            "The loss for 39 epoch is 0.6746050417423248\n",
            "The percentage for 39 epoch is 0.7265625\n",
            "Running on  cuda\n",
            "The loss for 39 epoch is 0.3507222354412079\n",
            "The percentage for 39 epoch is 0.635937511920929\n",
            "Running on  cuda\n",
            "The loss for 39 epoch is 1.5382971167564392\n",
            "The percentage for 39 epoch is 0.35364583134651184\n",
            "Running on  cuda\n",
            "The loss for 39 epoch is 0.4035413160920143\n",
            "The percentage for 39 epoch is 0.7973958849906921\n",
            "Running on  cuda\n",
            "The loss for 39 epoch is 0.4544727563858032\n",
            "The percentage for 39 epoch is 0.918749988079071\n",
            "Running on  cuda\n",
            "The loss for 39 epoch is 1.3831157386302948\n",
            "The percentage for 39 epoch is 0.7817708849906921\n",
            "Running on  cuda\n",
            "The loss for 39 epoch is 0.2995518371462822\n",
            "The percentage for 39 epoch is 0.7947916388511658\n",
            "Running on  cuda\n",
            "The loss for 39 epoch is 0.5356934100389481\n",
            "The percentage for 39 epoch is 0.8802083134651184\n",
            "Running on  cuda\n",
            "The loss for 39 epoch is 0.36762374043464663\n",
            "The percentage for 39 epoch is 0.754687488079071\n",
            "Running on  cuda\n",
            "The loss for 39 epoch is 0.5326737105846405\n",
            "The percentage for 39 epoch is 0.8046875\n",
            "Running on  cuda\n",
            "The loss for 39 epoch is 0.5368993431329727\n",
            "The percentage for 39 epoch is 0.6578125357627869\n",
            "Running on  cuda\n",
            "The loss for 39 epoch is 0.2786830961704254\n",
            "The percentage for 39 epoch is 0.8526042103767395\n",
            "Running on  cuda\n",
            "The loss for 39 epoch is 0.6242021828889847\n",
            "The percentage for 39 epoch is 0.7119791507720947\n",
            "Running on  cuda\n",
            "The loss for 39 epoch is 0.7018885672092438\n",
            "The percentage for 39 epoch is 0.746874988079071\n",
            "Running on  cuda\n",
            "The loss for 39 epoch is 0.9879385590553283\n",
            "The percentage for 39 epoch is 0.6130208373069763\n",
            "Running on  cuda\n",
            "The loss for 39 epoch is 0.713098207116127\n",
            "The percentage for 39 epoch is 0.7333333492279053\n",
            "Running on  cuda\n",
            "The loss for 39 epoch is 0.41772395372390747\n",
            "The percentage for 39 epoch is 0.8557292222976685\n",
            "Running on  cuda\n",
            "The loss for 39 epoch is 0.6561366260051728\n",
            "The percentage for 39 epoch is 0.8822917342185974\n",
            "Running on  cuda\n",
            "The loss for 39 epoch is 0.42814887762069703\n",
            "The percentage for 39 epoch is 0.8885416984558105\n",
            "Running on  cuda\n",
            "The loss for 39 epoch is 0.6778781652450562\n",
            "The percentage for 39 epoch is 0.7567708492279053\n",
            "Running on  cuda\n",
            "The loss for 39 epoch is 0.4407191604375839\n",
            "The percentage for 39 epoch is 0.8072916865348816\n",
            "Running on  cuda\n",
            "The loss for 39 epoch is 0.8566535234451294\n",
            "The percentage for 39 epoch is 0.7953125238418579\n",
            "Running on  cuda\n",
            "The loss for 39 epoch is 0.2590474545955658\n",
            "The percentage for 39 epoch is 0.8515625\n",
            "Running on  cuda\n",
            "The loss for 39 epoch is 1.133176898956299\n",
            "The percentage for 39 epoch is 0.6885416507720947\n",
            "Running on  cuda\n",
            "The loss for 39 epoch is 0.32226770669221877\n",
            "The percentage for 39 epoch is 0.637499988079071\n",
            "Running on  cuda\n",
            "The loss for 39 epoch is 0.4920563638210297\n",
            "The percentage for 39 epoch is 0.8348957896232605\n",
            "Running on  cuda\n",
            "The loss for 39 epoch is 1.250099641084671\n",
            "The percentage for 39 epoch is 0.6953125\n",
            "Running on  cuda\n",
            "The loss for 39 epoch is 1.299898225069046\n",
            "The percentage for 39 epoch is 0.7760416865348816\n",
            "Running on  cuda\n",
            "The loss for 39 epoch is 0.4376829847693443\n",
            "The percentage for 39 epoch is 0.8557292222976685\n",
            "Running on  cuda\n",
            "The loss for 39 epoch is 0.4606691628694534\n",
            "The percentage for 39 epoch is 0.7927083373069763\n",
            "Running on  cuda\n",
            "The loss for 39 epoch is 0.6383974403142929\n",
            "The percentage for 39 epoch is 0.6411458849906921\n",
            "Running on  cuda\n",
            "The loss for 39 epoch is 0.6622198462486267\n",
            "The percentage for 39 epoch is 0.7901041507720947\n",
            "Running on  cuda\n",
            "The loss for 39 epoch is 0.4943269819021225\n",
            "The percentage for 39 epoch is 0.828125\n",
            "Running on  cuda\n",
            "The loss for 39 epoch is 0.36014094948768616\n",
            "The percentage for 39 epoch is 0.8828125\n",
            "Running on  cuda\n",
            "The loss for 39 epoch is 0.35875701904296875\n",
            "The percentage for 39 epoch is 0.7890625\n",
            "Running on  cuda\n",
            "The loss for 39 epoch is 0.6896657466888427\n",
            "The percentage for 39 epoch is 0.7817708849906921\n",
            "Running on  cuda\n",
            "The loss for 39 epoch is 0.494505974650383\n",
            "The percentage for 39 epoch is 0.7265625\n",
            "Running on  cuda\n",
            "The loss for 39 epoch is 0.7205141514539719\n",
            "The percentage for 39 epoch is 0.6927083730697632\n",
            "Running on  cuda\n",
            "The loss for 39 epoch is 0.6613191813230515\n",
            "The percentage for 39 epoch is 0.8145833015441895\n",
            "Running on  cuda\n",
            "The loss for 39 epoch is 0.6480677038431167\n",
            "The percentage for 39 epoch is 0.7953125238418579\n",
            "Running on  cuda\n",
            "The loss for 39 epoch is 0.5156560391187668\n",
            "The percentage for 39 epoch is 0.7692708373069763\n",
            "Running on  cuda\n",
            "The loss for 39 epoch is 0.46926584988832476\n",
            "The percentage for 39 epoch is 0.8677083253860474\n",
            "Running on  cuda\n",
            "The loss for 39 epoch is 0.8154612213373185\n",
            "The percentage for 39 epoch is 0.5098958611488342\n",
            "Running on  cuda\n",
            "The loss for 39 epoch is 0.42850692570209503\n",
            "The percentage for 39 epoch is 0.8526042103767395\n",
            "Running on  cuda\n",
            "The loss for 39 epoch is 0.5278286129236222\n",
            "The percentage for 39 epoch is 0.7848958373069763\n",
            "Running on  cuda\n",
            "The loss for 39 epoch is 0.44299704134464263\n",
            "The percentage for 39 epoch is 0.8010417222976685\n",
            "Running on  cuda\n",
            "The loss for 39 epoch is 0.31233993619680406\n",
            "The percentage for 39 epoch is 0.9354166984558105\n",
            "Running on  cuda\n",
            "The loss for 39 epoch is 0.2762055531144142\n",
            "The percentage for 39 epoch is 0.9317708015441895\n",
            "Running on  cuda\n",
            "The loss for 39 epoch is 0.5761984169483185\n",
            "The percentage for 39 epoch is 0.8343750238418579\n",
            "Running on  cuda\n",
            "The loss for 39 epoch is 0.44511096775531767\n",
            "The percentage for 39 epoch is 0.7026041746139526\n",
            "Running on  cuda\n",
            "The loss for 39 epoch is 0.4959061622619629\n",
            "The percentage for 39 epoch is 0.7317708730697632\n",
            "Running on  cuda\n",
            "The loss for 39 epoch is 0.3277092412114143\n",
            "The percentage for 39 epoch is 0.8770833015441895\n",
            "Running on  cuda\n",
            "The loss for 39 epoch is 0.6337943732738495\n",
            "The percentage for 39 epoch is 0.8041667342185974\n",
            "Running on  cuda\n",
            "The loss for 39 epoch is 0.6568237170577049\n",
            "The percentage for 39 epoch is 0.5411458611488342\n",
            "Running on  cuda\n",
            "The loss for 39 epoch is 0.6158957153558731\n",
            "The percentage for 39 epoch is 0.7744791507720947\n",
            "Running on  cuda\n",
            "The loss for 39 epoch is 0.4983346164226532\n",
            "The percentage for 39 epoch is 0.6234375238418579\n",
            "Running on  cuda\n",
            "The loss for 39 epoch is 0.8385176837444306\n",
            "The percentage for 39 epoch is 0.8395833373069763\n",
            "Running on  cuda\n",
            "The loss for 39 epoch is 0.4656280308961868\n",
            "The percentage for 39 epoch is 0.8979167342185974\n",
            "Running on  cuda\n",
            "The loss for 39 epoch is 0.6430830031633377\n",
            "The percentage for 39 epoch is 0.723437488079071\n",
            "Running on  cuda\n",
            "The loss for 39 epoch is 0.5742285370826721\n",
            "The percentage for 39 epoch is 0.778124988079071\n",
            "Running on  cuda\n",
            "The loss for 39 epoch is 0.490565624833107\n",
            "The percentage for 39 epoch is 0.6651041507720947\n",
            "Running on  cuda\n",
            "The loss for 39 epoch is 0.4423474550247192\n",
            "The percentage for 39 epoch is 0.8609375357627869\n",
            "Running on  cuda\n",
            "The loss for 39 epoch is 0.876176905632019\n",
            "The percentage for 39 epoch is 0.7192708849906921\n",
            "Running on  cuda\n",
            "The loss for 39 epoch is 0.829031479358673\n",
            "The percentage for 39 epoch is 0.8187500238418579\n",
            "Running on  cuda\n",
            "The loss for 39 epoch is 0.4248121365904808\n",
            "The percentage for 39 epoch is 0.8135417103767395\n",
            "Running on  cuda\n",
            "The loss for 39 epoch is 0.28121631145477294\n",
            "The percentage for 39 epoch is 0.9375\n",
            "Running on  cuda\n",
            "The loss for 39 epoch is 0.4521042354404926\n",
            "The percentage for 39 epoch is 0.8921875357627869\n",
            "Running on  cuda\n",
            "The loss for 39 epoch is 1.4275309562683105\n",
            "The percentage for 39 epoch is 0.8005208373069763\n",
            "Running on  cuda\n",
            "The loss for 39 epoch is 0.6457972466945648\n",
            "The percentage for 39 epoch is 0.8276042342185974\n",
            "Running on  cuda\n",
            "The loss for 39 epoch is 1.21666179895401\n",
            "The percentage for 39 epoch is 0.5041666626930237\n",
            "Running on  cuda\n",
            "The loss for 39 epoch is 0.40310988426208494\n",
            "The percentage for 39 epoch is 0.8885416984558105\n",
            "Running on  cuda\n",
            "The loss for 39 epoch is 0.3596379429101944\n",
            "The percentage for 39 epoch is 0.9026042222976685\n",
            "Running on  cuda\n",
            "The loss for 39 epoch is 0.5430224716663361\n",
            "The percentage for 39 epoch is 0.8401042222976685\n",
            "Running on  cuda\n",
            "The loss for 39 epoch is 0.4505111813545227\n",
            "The percentage for 39 epoch is 0.8187500238418579\n",
            "Running on  cuda\n",
            "The loss for 39 epoch is 1.5074498295783996\n",
            "The percentage for 39 epoch is 0.723437488079071\n",
            "Running on  cuda\n",
            "The loss for 39 epoch is 0.48746936321258544\n",
            "The percentage for 39 epoch is 0.7578125\n",
            "Running on  cuda\n",
            "The loss for 39 epoch is 0.4305252701044083\n",
            "The percentage for 39 epoch is 0.8645833134651184\n",
            "Running on  cuda\n",
            "The loss for 39 epoch is 0.5077405780553818\n",
            "The percentage for 39 epoch is 0.8072916865348816\n",
            "Running on  cuda\n",
            "The loss for 39 epoch is 0.43872561156749723\n",
            "The percentage for 39 epoch is 0.6770833730697632\n",
            "Running on  cuda\n",
            "The loss for 39 epoch is 0.6785501599311828\n",
            "The percentage for 39 epoch is 0.737500011920929\n",
            "Running on  cuda\n",
            "The loss for 39 epoch is 0.4490668118000031\n",
            "The percentage for 39 epoch is 0.8359375\n",
            "Running on  cuda\n",
            "The loss for 39 epoch is 0.5034083515405655\n",
            "The percentage for 39 epoch is 0.7052083611488342\n",
            "Running on  cuda\n",
            "The loss for 39 epoch is 0.8002815395593643\n",
            "The percentage for 39 epoch is 0.8187500238418579\n",
            "Running on  cuda\n",
            "The loss for 39 epoch is 0.2245086684823036\n",
            "The percentage for 39 epoch is 0.9000000357627869\n",
            "Running on  cuda\n",
            "The loss for 39 epoch is 0.09950045179575681\n",
            "The percentage for 39 epoch is 0.7291666865348816\n",
            "Running on  cuda\n",
            "The loss for 39 epoch is 0.3389592349529266\n",
            "The percentage for 39 epoch is 0.9302083253860474\n"
          ]
        }
      ],
      "source": [
        "teacher_models = train_teacher_models(teachers_loaders, lr = 0.12, epoch = 40)"
      ]
    },
    {
      "cell_type": "code",
      "execution_count": 105,
      "metadata": {
        "colab": {},
        "colab_type": "code",
        "id": "G3lwp6qPCixV"
      },
      "outputs": [],
      "source": [
        "teachers_pred = np.array(evaluate(teacher_models, pdb))\n",
        "teachers_pred = teachers_pred.reshape(teachers, -1)"
      ]
    },
    {
      "cell_type": "code",
      "execution_count": 106,
      "metadata": {
        "colab": {
          "base_uri": "https://localhost:8080/",
          "height": 51
        },
        "colab_type": "code",
        "id": "213T9kM3vX-R",
        "outputId": "aacadc2f-9d98-415e-c4f4-ba8aeb2b3288"
      },
      "outputs": [],
      "source": [
        "indices = return_new_indices(teachers_pred, epsilon)"
      ]
    },
    {
      "cell_type": "code",
      "execution_count": 107,
      "metadata": {
        "colab": {
          "base_uri": "https://localhost:8080/",
          "height": 68
        },
        "colab_type": "code",
        "id": "gxcyR7ecvcvR",
        "outputId": "6ecd78be-f831-4c35-bae3-5145a94cd50f"
      },
      "outputs": [
        {
          "name": "stdout",
          "output_type": "stream",
          "text": [
            "Running on  cuda\n",
            "The loss for 29 epoch is 0.11098006428450558\n",
            "The percentage for 29 epoch is 0.962367057800293\n"
          ]
        }
      ],
      "source": [
        "labelledloader = join_label_image(pdb, indices)\n",
        "dp_model, dp_history = create_train_model(classifier, labelledloader, lr = 0.06, epoch = 30)"
      ]
    },
    {
      "cell_type": "code",
      "execution_count": 108,
      "metadata": {},
      "outputs": [
        {
          "name": "stdout",
          "output_type": "stream",
          "text": [
            "Running on  cuda\n",
            "The loss for 29 epoch is 0.0994957778289095\n",
            "The percentage for 29 epoch is 0.968195915222168\n"
          ]
        }
      ],
      "source": [
        "no_dp_model, no_dp_history = create_train_model(classifier, pdb, lr = 0.06, epoch = 30)"
      ]
    },
    {
      "cell_type": "code",
      "execution_count": 109,
      "metadata": {
        "colab": {
          "base_uri": "https://localhost:8080/",
          "height": 51
        },
        "colab_type": "code",
        "id": "O-mdHkRLvdiZ",
        "outputId": "0f4dd852-112b-4b39-d8ab-f311cf59d494"
      },
      "outputs": [
        {
          "name": "stdout",
          "output_type": "stream",
          "text": [
            "Running on  cuda\n",
            "The accuracy of the differentially private model on the private dataset is 85.5078125%\n"
          ]
        }
      ],
      "source": [
        "analyze_privatedata(dp_model, db)"
      ]
    },
    {
      "cell_type": "code",
      "execution_count": 110,
      "metadata": {},
      "outputs": [
        {
          "data": {
            "image/png": "[encoded data removed]",
            "text/plain": [
              "<Figure size 432x288 with 1 Axes>"
            ]
          },
          "metadata": {
            "needs_background": "light"
          },
          "output_type": "display_data"
        }
      ],
      "source": [
        "import matplotlib.pyplot as plt\n",
        "  \n",
        "# create data\n",
        "x = np.linspace(1, 30, 30)\n",
        "  \n",
        "# plot lines\n",
        "fig = plt.figure()\n",
        "plt.plot(x, [a.cpu() for a in dp_history[\"accuracy\"]], label = \"Differentially Private Model\")\n",
        "plt.plot(x, [a.cpu() for a in no_dp_history[\"accuracy\"]], label = \"Usual Model\")\n",
        "plt.xlabel(\"Epochs\")\n",
        "plt.ylabel(\"Accuracy\")\n",
        "plt.legend()\n",
        "plt.show()"
      ]
    },
    {
      "cell_type": "code",
      "execution_count": 111,
      "metadata": {},
      "outputs": [
        {
          "data": {
            "image/png": "[encoded data removed]",
            "text/plain": [
              "<Figure size 432x288 with 1 Axes>"
            ]
          },
          "metadata": {
            "needs_background": "light"
          },
          "output_type": "display_data"
        }
      ],
      "source": [
        "import matplotlib.pyplot as plt\n",
        "  \n",
        "# create data\n",
        "x = np.linspace(1, 30, 30)\n",
        "  \n",
        "# plot lines\n",
        "fig = plt.figure()\n",
        "plt.plot(x, dp_history[\"loss\"], label = \"Differentially Private Model\")\n",
        "plt.plot(x, no_dp_history[\"loss\"], label = \"Usual Model\")\n",
        "plt.xlabel(\"Epochs\")\n",
        "plt.ylabel(\"Loss\")\n",
        "plt.legend()\n",
        "plt.show()"
      ]
    },
    {
      "cell_type": "code",
      "execution_count": null,
      "metadata": {},
      "outputs": [],
      "source": []
    }
  ],
  "metadata": {
    "accelerator": "GPU",
    "colab": {
      "collapsed_sections": [],
      "name": "Differential_privacy_project.ipynb",
      "provenance": [],
      "version": "0.3.2"
    },
    "kernelspec": {
      "display_name": "Python 3",
      "name": "python3"
    },
    "language_info": {
      "codemirror_mode": {
        "name": "ipython",
        "version": 3
      },
      "file_extension": ".py",
      "mimetype": "text/x-python",
      "name": "python",
      "nbconvert_exporter": "python",
      "pygments_lexer": "ipython3",
      "version": "3.7.11"
    }
  },
  "nbformat": 4,
  "nbformat_minor": 0
}
